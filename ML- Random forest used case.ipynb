{
 "cells": [
  {
   "cell_type": "code",
   "execution_count": 1,
   "metadata": {},
   "outputs": [],
   "source": [
    "import os"
   ]
  },
  {
   "cell_type": "code",
   "execution_count": 2,
   "metadata": {},
   "outputs": [
    {
     "data": {
      "text/plain": [
       "'C:\\\\Users\\\\L'"
      ]
     },
     "execution_count": 2,
     "metadata": {},
     "output_type": "execute_result"
    }
   ],
   "source": [
    "os.getcwd()"
   ]
  },
  {
   "cell_type": "code",
   "execution_count": 3,
   "metadata": {},
   "outputs": [],
   "source": [
    "os.chdir('E:\\my practise proj\\classification project')"
   ]
  },
  {
   "cell_type": "code",
   "execution_count": 4,
   "metadata": {},
   "outputs": [
    {
     "data": {
      "text/plain": [
       "'E:\\\\my practise proj\\\\classification project'"
      ]
     },
     "execution_count": 4,
     "metadata": {},
     "output_type": "execute_result"
    }
   ],
   "source": [
    "os.getcwd()"
   ]
  },
  {
   "cell_type": "code",
   "execution_count": 5,
   "metadata": {},
   "outputs": [],
   "source": [
    "import pandas as pd"
   ]
  },
  {
   "cell_type": "code",
   "execution_count": 6,
   "metadata": {},
   "outputs": [],
   "source": [
    "train=pd.read_excel('train.xlsx')"
   ]
  },
  {
   "cell_type": "code",
   "execution_count": 7,
   "metadata": {},
   "outputs": [],
   "source": [
    "test=pd.read_excel('test.xlsx')"
   ]
  },
  {
   "cell_type": "code",
   "execution_count": 8,
   "metadata": {},
   "outputs": [],
   "source": [
    "train['source']='train'"
   ]
  },
  {
   "cell_type": "code",
   "execution_count": 9,
   "metadata": {},
   "outputs": [],
   "source": [
    "test['source']='test'"
   ]
  },
  {
   "cell_type": "code",
   "execution_count": 10,
   "metadata": {},
   "outputs": [
    {
     "name": "stderr",
     "output_type": "stream",
     "text": [
      "C:\\Users\\L\\Anaconda3\\lib\\site-packages\\ipykernel_launcher.py:1: FutureWarning: Sorting because non-concatenation axis is not aligned. A future version\n",
      "of pandas will change to not sort by default.\n",
      "\n",
      "To accept the future behavior, pass 'sort=False'.\n",
      "\n",
      "To retain the current behavior and silence the warning, pass 'sort=True'.\n",
      "\n",
      "  \"\"\"Entry point for launching an IPython kernel.\n"
     ]
    }
   ],
   "source": [
    "data=pd.concat([train,test], ignore_index=True)"
   ]
  },
  {
   "cell_type": "code",
   "execution_count": 11,
   "metadata": {},
   "outputs": [
    {
     "data": {
      "text/plain": [
       "((9527, 24), (5045, 23), (14572, 24))"
      ]
     },
     "execution_count": 11,
     "metadata": {},
     "output_type": "execute_result"
    }
   ],
   "source": [
    "train.shape,test.shape,data.shape"
   ]
  },
  {
   "cell_type": "code",
   "execution_count": 12,
   "metadata": {},
   "outputs": [
    {
     "data": {
      "text/plain": [
       "Index(['Applicant_BirthDate', 'Applicant_City_PIN', 'Applicant_Gender',\n",
       "       'Applicant_Marital_Status', 'Applicant_Occupation',\n",
       "       'Applicant_Qualification', 'Application_Receipt_Date',\n",
       "       'Business_Sourced', 'ID', 'Manager_Business', 'Manager_Business2',\n",
       "       'Manager_Current_Designation', 'Manager_DOJ', 'Manager_DoB',\n",
       "       'Manager_Gender', 'Manager_Grade', 'Manager_Joining_Designation',\n",
       "       'Manager_Num_Application', 'Manager_Num_Coded', 'Manager_Num_Products',\n",
       "       'Manager_Num_Products2', 'Manager_Status', 'Office_PIN', 'source'],\n",
       "      dtype='object')"
      ]
     },
     "execution_count": 12,
     "metadata": {},
     "output_type": "execute_result"
    }
   ],
   "source": [
    "data.columns"
   ]
  },
  {
   "cell_type": "code",
   "execution_count": 13,
   "metadata": {},
   "outputs": [
    {
     "data": {
      "text/html": [
       "<div>\n",
       "<style scoped>\n",
       "    .dataframe tbody tr th:only-of-type {\n",
       "        vertical-align: middle;\n",
       "    }\n",
       "\n",
       "    .dataframe tbody tr th {\n",
       "        vertical-align: top;\n",
       "    }\n",
       "\n",
       "    .dataframe thead th {\n",
       "        text-align: right;\n",
       "    }\n",
       "</style>\n",
       "<table border=\"1\" class=\"dataframe\">\n",
       "  <thead>\n",
       "    <tr style=\"text-align: right;\">\n",
       "      <th></th>\n",
       "      <th>Applicant_BirthDate</th>\n",
       "      <th>Applicant_City_PIN</th>\n",
       "      <th>Applicant_Gender</th>\n",
       "      <th>Applicant_Marital_Status</th>\n",
       "      <th>Applicant_Occupation</th>\n",
       "      <th>Applicant_Qualification</th>\n",
       "      <th>Application_Receipt_Date</th>\n",
       "      <th>Business_Sourced</th>\n",
       "      <th>ID</th>\n",
       "      <th>Manager_Business</th>\n",
       "      <th>...</th>\n",
       "      <th>Manager_Gender</th>\n",
       "      <th>Manager_Grade</th>\n",
       "      <th>Manager_Joining_Designation</th>\n",
       "      <th>Manager_Num_Application</th>\n",
       "      <th>Manager_Num_Coded</th>\n",
       "      <th>Manager_Num_Products</th>\n",
       "      <th>Manager_Num_Products2</th>\n",
       "      <th>Manager_Status</th>\n",
       "      <th>Office_PIN</th>\n",
       "      <th>source</th>\n",
       "    </tr>\n",
       "  </thead>\n",
       "  <tbody>\n",
       "    <tr>\n",
       "      <th>0</th>\n",
       "      <td>12/19/1971</td>\n",
       "      <td>844120.0</td>\n",
       "      <td>M</td>\n",
       "      <td>M</td>\n",
       "      <td>Others</td>\n",
       "      <td>Graduate</td>\n",
       "      <td>4/16/2007</td>\n",
       "      <td>0.0</td>\n",
       "      <td>FIN1000001</td>\n",
       "      <td>335249.0</td>\n",
       "      <td>...</td>\n",
       "      <td>M</td>\n",
       "      <td>3.0</td>\n",
       "      <td>Level 1</td>\n",
       "      <td>2.0</td>\n",
       "      <td>1.0</td>\n",
       "      <td>28.0</td>\n",
       "      <td>28.0</td>\n",
       "      <td>Confirmation</td>\n",
       "      <td>842001</td>\n",
       "      <td>train</td>\n",
       "    </tr>\n",
       "    <tr>\n",
       "      <th>1</th>\n",
       "      <td>2/17/1983</td>\n",
       "      <td>844111.0</td>\n",
       "      <td>M</td>\n",
       "      <td>S</td>\n",
       "      <td>Others</td>\n",
       "      <td>Class XII</td>\n",
       "      <td>4/16/2007</td>\n",
       "      <td>1.0</td>\n",
       "      <td>FIN1000002</td>\n",
       "      <td>335249.0</td>\n",
       "      <td>...</td>\n",
       "      <td>M</td>\n",
       "      <td>3.0</td>\n",
       "      <td>Level 1</td>\n",
       "      <td>2.0</td>\n",
       "      <td>1.0</td>\n",
       "      <td>28.0</td>\n",
       "      <td>28.0</td>\n",
       "      <td>Confirmation</td>\n",
       "      <td>842001</td>\n",
       "      <td>train</td>\n",
       "    </tr>\n",
       "    <tr>\n",
       "      <th>2</th>\n",
       "      <td>1/16/1966</td>\n",
       "      <td>844101.0</td>\n",
       "      <td>M</td>\n",
       "      <td>M</td>\n",
       "      <td>Business</td>\n",
       "      <td>Class XII</td>\n",
       "      <td>4/16/2007</td>\n",
       "      <td>0.0</td>\n",
       "      <td>FIN1000003</td>\n",
       "      <td>357184.0</td>\n",
       "      <td>...</td>\n",
       "      <td>M</td>\n",
       "      <td>2.0</td>\n",
       "      <td>Level 1</td>\n",
       "      <td>0.0</td>\n",
       "      <td>0.0</td>\n",
       "      <td>24.0</td>\n",
       "      <td>24.0</td>\n",
       "      <td>Confirmation</td>\n",
       "      <td>800001</td>\n",
       "      <td>train</td>\n",
       "    </tr>\n",
       "    <tr>\n",
       "      <th>3</th>\n",
       "      <td>1988-03-02 00:00:00</td>\n",
       "      <td>814112.0</td>\n",
       "      <td>M</td>\n",
       "      <td>S</td>\n",
       "      <td>Salaried</td>\n",
       "      <td>Class XII</td>\n",
       "      <td>4/16/2007</td>\n",
       "      <td>0.0</td>\n",
       "      <td>FIN1000004</td>\n",
       "      <td>318356.0</td>\n",
       "      <td>...</td>\n",
       "      <td>F</td>\n",
       "      <td>4.0</td>\n",
       "      <td>Level 1</td>\n",
       "      <td>0.0</td>\n",
       "      <td>0.0</td>\n",
       "      <td>22.0</td>\n",
       "      <td>22.0</td>\n",
       "      <td>Confirmation</td>\n",
       "      <td>814112</td>\n",
       "      <td>train</td>\n",
       "    </tr>\n",
       "    <tr>\n",
       "      <th>4</th>\n",
       "      <td>1985-04-07 00:00:00</td>\n",
       "      <td>815351.0</td>\n",
       "      <td>M</td>\n",
       "      <td>M</td>\n",
       "      <td>Others</td>\n",
       "      <td>Class XII</td>\n",
       "      <td>4/16/2007</td>\n",
       "      <td>0.0</td>\n",
       "      <td>FIN1000005</td>\n",
       "      <td>230402.0</td>\n",
       "      <td>...</td>\n",
       "      <td>M</td>\n",
       "      <td>2.0</td>\n",
       "      <td>Level 1</td>\n",
       "      <td>2.0</td>\n",
       "      <td>1.0</td>\n",
       "      <td>17.0</td>\n",
       "      <td>17.0</td>\n",
       "      <td>Confirmation</td>\n",
       "      <td>814112</td>\n",
       "      <td>train</td>\n",
       "    </tr>\n",
       "  </tbody>\n",
       "</table>\n",
       "<p>5 rows × 24 columns</p>\n",
       "</div>"
      ],
      "text/plain": [
       "   Applicant_BirthDate  Applicant_City_PIN Applicant_Gender  \\\n",
       "0           12/19/1971            844120.0                M   \n",
       "1            2/17/1983            844111.0                M   \n",
       "2            1/16/1966            844101.0                M   \n",
       "3  1988-03-02 00:00:00            814112.0                M   \n",
       "4  1985-04-07 00:00:00            815351.0                M   \n",
       "\n",
       "  Applicant_Marital_Status Applicant_Occupation Applicant_Qualification  \\\n",
       "0                        M               Others                Graduate   \n",
       "1                        S               Others               Class XII   \n",
       "2                        M             Business               Class XII   \n",
       "3                        S             Salaried               Class XII   \n",
       "4                        M               Others               Class XII   \n",
       "\n",
       "  Application_Receipt_Date  Business_Sourced          ID  Manager_Business  \\\n",
       "0                4/16/2007               0.0  FIN1000001          335249.0   \n",
       "1                4/16/2007               1.0  FIN1000002          335249.0   \n",
       "2                4/16/2007               0.0  FIN1000003          357184.0   \n",
       "3                4/16/2007               0.0  FIN1000004          318356.0   \n",
       "4                4/16/2007               0.0  FIN1000005          230402.0   \n",
       "\n",
       "   ...  Manager_Gender Manager_Grade Manager_Joining_Designation  \\\n",
       "0  ...               M           3.0                     Level 1   \n",
       "1  ...               M           3.0                     Level 1   \n",
       "2  ...               M           2.0                     Level 1   \n",
       "3  ...               F           4.0                     Level 1   \n",
       "4  ...               M           2.0                     Level 1   \n",
       "\n",
       "  Manager_Num_Application Manager_Num_Coded  Manager_Num_Products  \\\n",
       "0                     2.0               1.0                  28.0   \n",
       "1                     2.0               1.0                  28.0   \n",
       "2                     0.0               0.0                  24.0   \n",
       "3                     0.0               0.0                  22.0   \n",
       "4                     2.0               1.0                  17.0   \n",
       "\n",
       "  Manager_Num_Products2  Manager_Status  Office_PIN  source  \n",
       "0                  28.0    Confirmation      842001   train  \n",
       "1                  28.0    Confirmation      842001   train  \n",
       "2                  24.0    Confirmation      800001   train  \n",
       "3                  22.0    Confirmation      814112   train  \n",
       "4                  17.0    Confirmation      814112   train  \n",
       "\n",
       "[5 rows x 24 columns]"
      ]
     },
     "execution_count": 13,
     "metadata": {},
     "output_type": "execute_result"
    }
   ],
   "source": [
    "data.head()"
   ]
  },
  {
   "cell_type": "code",
   "execution_count": 14,
   "metadata": {},
   "outputs": [
    {
     "data": {
      "text/plain": [
       "Applicant_BirthDate             object\n",
       "Applicant_City_PIN             float64\n",
       "Applicant_Gender                object\n",
       "Applicant_Marital_Status        object\n",
       "Applicant_Occupation            object\n",
       "Applicant_Qualification         object\n",
       "Application_Receipt_Date        object\n",
       "Business_Sourced               float64\n",
       "ID                              object\n",
       "Manager_Business               float64\n",
       "Manager_Business2              float64\n",
       "Manager_Current_Designation     object\n",
       "Manager_DOJ                     object\n",
       "Manager_DoB                     object\n",
       "Manager_Gender                  object\n",
       "Manager_Grade                  float64\n",
       "Manager_Joining_Designation     object\n",
       "Manager_Num_Application        float64\n",
       "Manager_Num_Coded              float64\n",
       "Manager_Num_Products           float64\n",
       "Manager_Num_Products2          float64\n",
       "Manager_Status                  object\n",
       "Office_PIN                       int64\n",
       "source                          object\n",
       "dtype: object"
      ]
     },
     "execution_count": 14,
     "metadata": {},
     "output_type": "execute_result"
    }
   ],
   "source": [
    "data.dtypes"
   ]
  },
  {
   "cell_type": "code",
   "execution_count": 15,
   "metadata": {},
   "outputs": [],
   "source": [
    "data=data.drop([\"Applicant_BirthDate\",\"Applicant_City_PIN\",\"Application_Receipt_Date\",\"Manager_DOJ\",\"Manager_DoB\",\"Manager_Num_Application\",\"Manager_Num_Coded\",\"Office_PIN\"],axis=1)"
   ]
  },
  {
   "cell_type": "code",
   "execution_count": 16,
   "metadata": {},
   "outputs": [
    {
     "data": {
      "text/plain": [
       "Applicant_Gender                object\n",
       "Applicant_Marital_Status        object\n",
       "Applicant_Occupation            object\n",
       "Applicant_Qualification         object\n",
       "Business_Sourced               float64\n",
       "ID                              object\n",
       "Manager_Business               float64\n",
       "Manager_Business2              float64\n",
       "Manager_Current_Designation     object\n",
       "Manager_Gender                  object\n",
       "Manager_Grade                  float64\n",
       "Manager_Joining_Designation     object\n",
       "Manager_Num_Products           float64\n",
       "Manager_Num_Products2          float64\n",
       "Manager_Status                  object\n",
       "source                          object\n",
       "dtype: object"
      ]
     },
     "execution_count": 16,
     "metadata": {},
     "output_type": "execute_result"
    }
   ],
   "source": [
    "data.dtypes"
   ]
  },
  {
   "cell_type": "code",
   "execution_count": 17,
   "metadata": {},
   "outputs": [
    {
     "data": {
      "text/html": [
       "<div>\n",
       "<style scoped>\n",
       "    .dataframe tbody tr th:only-of-type {\n",
       "        vertical-align: middle;\n",
       "    }\n",
       "\n",
       "    .dataframe tbody tr th {\n",
       "        vertical-align: top;\n",
       "    }\n",
       "\n",
       "    .dataframe thead th {\n",
       "        text-align: right;\n",
       "    }\n",
       "</style>\n",
       "<table border=\"1\" class=\"dataframe\">\n",
       "  <thead>\n",
       "    <tr style=\"text-align: right;\">\n",
       "      <th>Applicant_Marital_Status</th>\n",
       "      <th>D</th>\n",
       "      <th>M</th>\n",
       "      <th>S</th>\n",
       "      <th>W</th>\n",
       "    </tr>\n",
       "    <tr>\n",
       "      <th>Applicant_Gender</th>\n",
       "      <th></th>\n",
       "      <th></th>\n",
       "      <th></th>\n",
       "      <th></th>\n",
       "    </tr>\n",
       "  </thead>\n",
       "  <tbody>\n",
       "    <tr>\n",
       "      <th>F</th>\n",
       "      <td>6</td>\n",
       "      <td>2358</td>\n",
       "      <td>1020</td>\n",
       "      <td>16</td>\n",
       "    </tr>\n",
       "    <tr>\n",
       "      <th>M</th>\n",
       "      <td>5</td>\n",
       "      <td>7904</td>\n",
       "      <td>3154</td>\n",
       "      <td>2</td>\n",
       "    </tr>\n",
       "  </tbody>\n",
       "</table>\n",
       "</div>"
      ],
      "text/plain": [
       "Applicant_Marital_Status  D     M     S   W\n",
       "Applicant_Gender                           \n",
       "F                         6  2358  1020  16\n",
       "M                         5  7904  3154   2"
      ]
     },
     "execution_count": 17,
     "metadata": {},
     "output_type": "execute_result"
    }
   ],
   "source": [
    "pd.crosstab(data.Applicant_Gender,data.Applicant_Marital_Status,rownames=['Applicant_Gender'],colnames=['Applicant_Marital_Status'])"
   ]
  },
  {
   "cell_type": "code",
   "execution_count": 18,
   "metadata": {},
   "outputs": [
    {
     "data": {
      "text/html": [
       "<div>\n",
       "<style scoped>\n",
       "    .dataframe tbody tr th:only-of-type {\n",
       "        vertical-align: middle;\n",
       "    }\n",
       "\n",
       "    .dataframe tbody tr th {\n",
       "        vertical-align: top;\n",
       "    }\n",
       "\n",
       "    .dataframe thead th {\n",
       "        text-align: right;\n",
       "    }\n",
       "</style>\n",
       "<table border=\"1\" class=\"dataframe\">\n",
       "  <thead>\n",
       "    <tr style=\"text-align: right;\">\n",
       "      <th></th>\n",
       "      <th>Business_Sourced</th>\n",
       "      <th>Manager_Business</th>\n",
       "      <th>Manager_Business2</th>\n",
       "      <th>Manager_Grade</th>\n",
       "      <th>Manager_Num_Products</th>\n",
       "      <th>Manager_Num_Products2</th>\n",
       "    </tr>\n",
       "  </thead>\n",
       "  <tbody>\n",
       "    <tr>\n",
       "      <th>count</th>\n",
       "      <td>9527.00000</td>\n",
       "      <td>1.306500e+04</td>\n",
       "      <td>1.306500e+04</td>\n",
       "      <td>13065.000000</td>\n",
       "      <td>13065.000000</td>\n",
       "      <td>13065.000000</td>\n",
       "    </tr>\n",
       "    <tr>\n",
       "      <th>mean</th>\n",
       "      <td>0.34292</td>\n",
       "      <td>1.608418e+05</td>\n",
       "      <td>1.557958e+05</td>\n",
       "      <td>3.292767</td>\n",
       "      <td>6.090011</td>\n",
       "      <td>5.956525</td>\n",
       "    </tr>\n",
       "    <tr>\n",
       "      <th>std</th>\n",
       "      <td>0.47471</td>\n",
       "      <td>2.468611e+05</td>\n",
       "      <td>2.419127e+05</td>\n",
       "      <td>1.094060</td>\n",
       "      <td>7.594496</td>\n",
       "      <td>7.532118</td>\n",
       "    </tr>\n",
       "    <tr>\n",
       "      <th>min</th>\n",
       "      <td>0.00000</td>\n",
       "      <td>-2.652890e+05</td>\n",
       "      <td>-2.652890e+05</td>\n",
       "      <td>1.000000</td>\n",
       "      <td>0.000000</td>\n",
       "      <td>0.000000</td>\n",
       "    </tr>\n",
       "    <tr>\n",
       "      <th>25%</th>\n",
       "      <td>0.00000</td>\n",
       "      <td>0.000000e+00</td>\n",
       "      <td>0.000000e+00</td>\n",
       "      <td>2.000000</td>\n",
       "      <td>0.000000</td>\n",
       "      <td>0.000000</td>\n",
       "    </tr>\n",
       "    <tr>\n",
       "      <th>50%</th>\n",
       "      <td>0.00000</td>\n",
       "      <td>8.477800e+04</td>\n",
       "      <td>8.130400e+04</td>\n",
       "      <td>3.000000</td>\n",
       "      <td>4.000000</td>\n",
       "      <td>4.000000</td>\n",
       "    </tr>\n",
       "    <tr>\n",
       "      <th>75%</th>\n",
       "      <td>1.00000</td>\n",
       "      <td>2.210900e+05</td>\n",
       "      <td>2.119410e+05</td>\n",
       "      <td>4.000000</td>\n",
       "      <td>10.000000</td>\n",
       "      <td>9.000000</td>\n",
       "    </tr>\n",
       "    <tr>\n",
       "      <th>max</th>\n",
       "      <td>1.00000</td>\n",
       "      <td>3.578265e+06</td>\n",
       "      <td>3.578265e+06</td>\n",
       "      <td>10.000000</td>\n",
       "      <td>101.000000</td>\n",
       "      <td>101.000000</td>\n",
       "    </tr>\n",
       "  </tbody>\n",
       "</table>\n",
       "</div>"
      ],
      "text/plain": [
       "       Business_Sourced  Manager_Business  Manager_Business2  Manager_Grade  \\\n",
       "count        9527.00000      1.306500e+04       1.306500e+04   13065.000000   \n",
       "mean            0.34292      1.608418e+05       1.557958e+05       3.292767   \n",
       "std             0.47471      2.468611e+05       2.419127e+05       1.094060   \n",
       "min             0.00000     -2.652890e+05      -2.652890e+05       1.000000   \n",
       "25%             0.00000      0.000000e+00       0.000000e+00       2.000000   \n",
       "50%             0.00000      8.477800e+04       8.130400e+04       3.000000   \n",
       "75%             1.00000      2.210900e+05       2.119410e+05       4.000000   \n",
       "max             1.00000      3.578265e+06       3.578265e+06      10.000000   \n",
       "\n",
       "       Manager_Num_Products  Manager_Num_Products2  \n",
       "count          13065.000000           13065.000000  \n",
       "mean               6.090011               5.956525  \n",
       "std                7.594496               7.532118  \n",
       "min                0.000000               0.000000  \n",
       "25%                0.000000               0.000000  \n",
       "50%                4.000000               4.000000  \n",
       "75%               10.000000               9.000000  \n",
       "max              101.000000             101.000000  "
      ]
     },
     "execution_count": 18,
     "metadata": {},
     "output_type": "execute_result"
    }
   ],
   "source": [
    "data.describe()"
   ]
  },
  {
   "cell_type": "code",
   "execution_count": 19,
   "metadata": {},
   "outputs": [
    {
     "data": {
      "text/plain": [
       "Applicant_Gender                 89\n",
       "Applicant_Marital_Status        103\n",
       "Applicant_Occupation           2225\n",
       "Applicant_Qualification         130\n",
       "Business_Sourced               5045\n",
       "ID                                0\n",
       "Manager_Business               1507\n",
       "Manager_Business2              1507\n",
       "Manager_Current_Designation    1507\n",
       "Manager_Gender                 1507\n",
       "Manager_Grade                  1507\n",
       "Manager_Joining_Designation    1507\n",
       "Manager_Num_Products           1507\n",
       "Manager_Num_Products2          1507\n",
       "Manager_Status                 1507\n",
       "source                            0\n",
       "dtype: int64"
      ]
     },
     "execution_count": 19,
     "metadata": {},
     "output_type": "execute_result"
    }
   ],
   "source": [
    "data.isnull().sum()"
   ]
  },
  {
   "cell_type": "code",
   "execution_count": 20,
   "metadata": {},
   "outputs": [
    {
     "data": {
      "text/plain": [
       "0    M\n",
       "dtype: object"
      ]
     },
     "execution_count": 20,
     "metadata": {},
     "output_type": "execute_result"
    }
   ],
   "source": [
    "data['Applicant_Gender'].mode()"
   ]
  },
  {
   "cell_type": "code",
   "execution_count": 21,
   "metadata": {},
   "outputs": [],
   "source": [
    "data['Applicant_Gender'].fillna('M',inplace=True)"
   ]
  },
  {
   "cell_type": "code",
   "execution_count": 22,
   "metadata": {},
   "outputs": [
    {
     "data": {
      "text/plain": [
       "0    M\n",
       "dtype: object"
      ]
     },
     "execution_count": 22,
     "metadata": {},
     "output_type": "execute_result"
    }
   ],
   "source": [
    "data['Applicant_Marital_Status'].mode()"
   ]
  },
  {
   "cell_type": "code",
   "execution_count": 23,
   "metadata": {},
   "outputs": [],
   "source": [
    "data['Applicant_Marital_Status'].fillna('M',inplace=True)"
   ]
  },
  {
   "cell_type": "code",
   "execution_count": 24,
   "metadata": {},
   "outputs": [
    {
     "data": {
      "text/plain": [
       "0    Salaried\n",
       "dtype: object"
      ]
     },
     "execution_count": 24,
     "metadata": {},
     "output_type": "execute_result"
    }
   ],
   "source": [
    "data['Applicant_Occupation'].mode()"
   ]
  },
  {
   "cell_type": "code",
   "execution_count": 25,
   "metadata": {},
   "outputs": [],
   "source": [
    "data['Applicant_Occupation'].fillna('Salaried',inplace=True)"
   ]
  },
  {
   "cell_type": "code",
   "execution_count": 26,
   "metadata": {},
   "outputs": [
    {
     "data": {
      "text/plain": [
       "0    Class XII\n",
       "dtype: object"
      ]
     },
     "execution_count": 26,
     "metadata": {},
     "output_type": "execute_result"
    }
   ],
   "source": [
    "data['Applicant_Qualification'].mode()"
   ]
  },
  {
   "cell_type": "code",
   "execution_count": 27,
   "metadata": {},
   "outputs": [],
   "source": [
    "data['Applicant_Qualification'].fillna('Class XII',inplace=True)"
   ]
  },
  {
   "cell_type": "code",
   "execution_count": 28,
   "metadata": {},
   "outputs": [],
   "source": [
    "data['Manager_Business'].fillna(data['Manager_Business'].mean(),inplace=True)"
   ]
  },
  {
   "cell_type": "code",
   "execution_count": 29,
   "metadata": {},
   "outputs": [],
   "source": [
    "data['Manager_Business2'].fillna(data['Manager_Business2'].mean(),inplace=True)"
   ]
  },
  {
   "cell_type": "code",
   "execution_count": 30,
   "metadata": {},
   "outputs": [
    {
     "data": {
      "text/plain": [
       "0    Level 2\n",
       "dtype: object"
      ]
     },
     "execution_count": 30,
     "metadata": {},
     "output_type": "execute_result"
    }
   ],
   "source": [
    "data['Manager_Current_Designation'].mode()"
   ]
  },
  {
   "cell_type": "code",
   "execution_count": 31,
   "metadata": {},
   "outputs": [],
   "source": [
    "data['Manager_Current_Designation'].fillna('Level 2',inplace=True)"
   ]
  },
  {
   "cell_type": "code",
   "execution_count": 32,
   "metadata": {},
   "outputs": [
    {
     "data": {
      "text/plain": [
       "0    M\n",
       "dtype: object"
      ]
     },
     "execution_count": 32,
     "metadata": {},
     "output_type": "execute_result"
    }
   ],
   "source": [
    "data['Manager_Gender'].mode()"
   ]
  },
  {
   "cell_type": "code",
   "execution_count": 33,
   "metadata": {},
   "outputs": [],
   "source": [
    "data['Manager_Gender'].fillna('M',inplace=True)"
   ]
  },
  {
   "cell_type": "code",
   "execution_count": 34,
   "metadata": {},
   "outputs": [],
   "source": [
    "data['Manager_Grade'].fillna(data['Manager_Grade'].mean(),inplace=True)"
   ]
  },
  {
   "cell_type": "code",
   "execution_count": 35,
   "metadata": {},
   "outputs": [
    {
     "data": {
      "text/plain": [
       "0    Level 1\n",
       "dtype: object"
      ]
     },
     "execution_count": 35,
     "metadata": {},
     "output_type": "execute_result"
    }
   ],
   "source": [
    "data['Manager_Joining_Designation'].mode()"
   ]
  },
  {
   "cell_type": "code",
   "execution_count": 36,
   "metadata": {},
   "outputs": [],
   "source": [
    "data['Manager_Joining_Designation'].fillna('Level 1',inplace=True)"
   ]
  },
  {
   "cell_type": "code",
   "execution_count": 37,
   "metadata": {},
   "outputs": [],
   "source": [
    "data['Manager_Num_Products'].fillna(data['Manager_Num_Products'].mean(),inplace=True)"
   ]
  },
  {
   "cell_type": "code",
   "execution_count": 38,
   "metadata": {},
   "outputs": [],
   "source": [
    "data['Manager_Num_Products2'].fillna(data['Manager_Num_Products2'].mean(),inplace=True)"
   ]
  },
  {
   "cell_type": "code",
   "execution_count": 39,
   "metadata": {},
   "outputs": [
    {
     "data": {
      "text/plain": [
       "0    Confirmation\n",
       "dtype: object"
      ]
     },
     "execution_count": 39,
     "metadata": {},
     "output_type": "execute_result"
    }
   ],
   "source": [
    "data['Manager_Status'].mode()"
   ]
  },
  {
   "cell_type": "code",
   "execution_count": 40,
   "metadata": {},
   "outputs": [],
   "source": [
    "data['Manager_Status'].fillna('Confirmation',inplace=True)"
   ]
  },
  {
   "cell_type": "code",
   "execution_count": 41,
   "metadata": {},
   "outputs": [
    {
     "data": {
      "text/plain": [
       "Applicant_Gender                  0\n",
       "Applicant_Marital_Status          0\n",
       "Applicant_Occupation              0\n",
       "Applicant_Qualification           0\n",
       "Business_Sourced               5045\n",
       "ID                                0\n",
       "Manager_Business                  0\n",
       "Manager_Business2                 0\n",
       "Manager_Current_Designation       0\n",
       "Manager_Gender                    0\n",
       "Manager_Grade                     0\n",
       "Manager_Joining_Designation       0\n",
       "Manager_Num_Products              0\n",
       "Manager_Num_Products2             0\n",
       "Manager_Status                    0\n",
       "source                            0\n",
       "dtype: int64"
      ]
     },
     "execution_count": 41,
     "metadata": {},
     "output_type": "execute_result"
    }
   ],
   "source": [
    "data.isnull().sum()"
   ]
  },
  {
   "cell_type": "code",
   "execution_count": 42,
   "metadata": {},
   "outputs": [
    {
     "data": {
      "text/plain": [
       "Applicant_Gender                object\n",
       "Applicant_Marital_Status        object\n",
       "Applicant_Occupation            object\n",
       "Applicant_Qualification         object\n",
       "Business_Sourced               float64\n",
       "ID                              object\n",
       "Manager_Business               float64\n",
       "Manager_Business2              float64\n",
       "Manager_Current_Designation     object\n",
       "Manager_Gender                  object\n",
       "Manager_Grade                  float64\n",
       "Manager_Joining_Designation     object\n",
       "Manager_Num_Products           float64\n",
       "Manager_Num_Products2          float64\n",
       "Manager_Status                  object\n",
       "source                          object\n",
       "dtype: object"
      ]
     },
     "execution_count": 42,
     "metadata": {},
     "output_type": "execute_result"
    }
   ],
   "source": [
    "data.dtypes"
   ]
  },
  {
   "cell_type": "code",
   "execution_count": 43,
   "metadata": {},
   "outputs": [],
   "source": [
    "data=pd.get_dummies(data,columns=['Applicant_Gender','Applicant_Marital_Status','Applicant_Occupation','Applicant_Qualification','Manager_Current_Designation','Manager_Gender','Manager_Joining_Designation','Manager_Status'])"
   ]
  },
  {
   "cell_type": "code",
   "execution_count": 44,
   "metadata": {},
   "outputs": [
    {
     "data": {
      "text/plain": [
       "(14572, 48)"
      ]
     },
     "execution_count": 44,
     "metadata": {},
     "output_type": "execute_result"
    }
   ],
   "source": [
    "data.shape"
   ]
  },
  {
   "cell_type": "code",
   "execution_count": 45,
   "metadata": {},
   "outputs": [
    {
     "data": {
      "text/html": [
       "<div>\n",
       "<style scoped>\n",
       "    .dataframe tbody tr th:only-of-type {\n",
       "        vertical-align: middle;\n",
       "    }\n",
       "\n",
       "    .dataframe tbody tr th {\n",
       "        vertical-align: top;\n",
       "    }\n",
       "\n",
       "    .dataframe thead th {\n",
       "        text-align: right;\n",
       "    }\n",
       "</style>\n",
       "<table border=\"1\" class=\"dataframe\">\n",
       "  <thead>\n",
       "    <tr style=\"text-align: right;\">\n",
       "      <th></th>\n",
       "      <th>Business_Sourced</th>\n",
       "      <th>ID</th>\n",
       "      <th>Manager_Business</th>\n",
       "      <th>Manager_Business2</th>\n",
       "      <th>Manager_Grade</th>\n",
       "      <th>Manager_Num_Products</th>\n",
       "      <th>Manager_Num_Products2</th>\n",
       "      <th>source</th>\n",
       "      <th>Applicant_Gender_F</th>\n",
       "      <th>Applicant_Gender_M</th>\n",
       "      <th>...</th>\n",
       "      <th>Manager_Joining_Designation_Level 1</th>\n",
       "      <th>Manager_Joining_Designation_Level 2</th>\n",
       "      <th>Manager_Joining_Designation_Level 3</th>\n",
       "      <th>Manager_Joining_Designation_Level 4</th>\n",
       "      <th>Manager_Joining_Designation_Level 5</th>\n",
       "      <th>Manager_Joining_Designation_Level 6</th>\n",
       "      <th>Manager_Joining_Designation_Level 7</th>\n",
       "      <th>Manager_Joining_Designation_Other</th>\n",
       "      <th>Manager_Status_Confirmation</th>\n",
       "      <th>Manager_Status_Probation</th>\n",
       "    </tr>\n",
       "  </thead>\n",
       "  <tbody>\n",
       "    <tr>\n",
       "      <th>14567</th>\n",
       "      <td>NaN</td>\n",
       "      <td>FIN1014568</td>\n",
       "      <td>0.0</td>\n",
       "      <td>0.0</td>\n",
       "      <td>3.0</td>\n",
       "      <td>0.0</td>\n",
       "      <td>0.0</td>\n",
       "      <td>test</td>\n",
       "      <td>1</td>\n",
       "      <td>0</td>\n",
       "      <td>...</td>\n",
       "      <td>0</td>\n",
       "      <td>1</td>\n",
       "      <td>0</td>\n",
       "      <td>0</td>\n",
       "      <td>0</td>\n",
       "      <td>0</td>\n",
       "      <td>0</td>\n",
       "      <td>0</td>\n",
       "      <td>0</td>\n",
       "      <td>1</td>\n",
       "    </tr>\n",
       "    <tr>\n",
       "      <th>14568</th>\n",
       "      <td>NaN</td>\n",
       "      <td>FIN1014569</td>\n",
       "      <td>0.0</td>\n",
       "      <td>0.0</td>\n",
       "      <td>3.0</td>\n",
       "      <td>0.0</td>\n",
       "      <td>0.0</td>\n",
       "      <td>test</td>\n",
       "      <td>0</td>\n",
       "      <td>1</td>\n",
       "      <td>...</td>\n",
       "      <td>0</td>\n",
       "      <td>1</td>\n",
       "      <td>0</td>\n",
       "      <td>0</td>\n",
       "      <td>0</td>\n",
       "      <td>0</td>\n",
       "      <td>0</td>\n",
       "      <td>0</td>\n",
       "      <td>0</td>\n",
       "      <td>1</td>\n",
       "    </tr>\n",
       "    <tr>\n",
       "      <th>14569</th>\n",
       "      <td>NaN</td>\n",
       "      <td>FIN1014570</td>\n",
       "      <td>0.0</td>\n",
       "      <td>0.0</td>\n",
       "      <td>3.0</td>\n",
       "      <td>0.0</td>\n",
       "      <td>0.0</td>\n",
       "      <td>test</td>\n",
       "      <td>0</td>\n",
       "      <td>1</td>\n",
       "      <td>...</td>\n",
       "      <td>0</td>\n",
       "      <td>1</td>\n",
       "      <td>0</td>\n",
       "      <td>0</td>\n",
       "      <td>0</td>\n",
       "      <td>0</td>\n",
       "      <td>0</td>\n",
       "      <td>0</td>\n",
       "      <td>0</td>\n",
       "      <td>1</td>\n",
       "    </tr>\n",
       "    <tr>\n",
       "      <th>14570</th>\n",
       "      <td>NaN</td>\n",
       "      <td>FIN1014571</td>\n",
       "      <td>15347.0</td>\n",
       "      <td>15347.0</td>\n",
       "      <td>3.0</td>\n",
       "      <td>1.0</td>\n",
       "      <td>1.0</td>\n",
       "      <td>test</td>\n",
       "      <td>0</td>\n",
       "      <td>1</td>\n",
       "      <td>...</td>\n",
       "      <td>0</td>\n",
       "      <td>1</td>\n",
       "      <td>0</td>\n",
       "      <td>0</td>\n",
       "      <td>0</td>\n",
       "      <td>0</td>\n",
       "      <td>0</td>\n",
       "      <td>0</td>\n",
       "      <td>0</td>\n",
       "      <td>1</td>\n",
       "    </tr>\n",
       "    <tr>\n",
       "      <th>14571</th>\n",
       "      <td>NaN</td>\n",
       "      <td>FIN1014572</td>\n",
       "      <td>0.0</td>\n",
       "      <td>0.0</td>\n",
       "      <td>3.0</td>\n",
       "      <td>0.0</td>\n",
       "      <td>0.0</td>\n",
       "      <td>test</td>\n",
       "      <td>0</td>\n",
       "      <td>1</td>\n",
       "      <td>...</td>\n",
       "      <td>0</td>\n",
       "      <td>1</td>\n",
       "      <td>0</td>\n",
       "      <td>0</td>\n",
       "      <td>0</td>\n",
       "      <td>0</td>\n",
       "      <td>0</td>\n",
       "      <td>0</td>\n",
       "      <td>0</td>\n",
       "      <td>1</td>\n",
       "    </tr>\n",
       "  </tbody>\n",
       "</table>\n",
       "<p>5 rows × 48 columns</p>\n",
       "</div>"
      ],
      "text/plain": [
       "       Business_Sourced          ID  Manager_Business  Manager_Business2  \\\n",
       "14567               NaN  FIN1014568               0.0                0.0   \n",
       "14568               NaN  FIN1014569               0.0                0.0   \n",
       "14569               NaN  FIN1014570               0.0                0.0   \n",
       "14570               NaN  FIN1014571           15347.0            15347.0   \n",
       "14571               NaN  FIN1014572               0.0                0.0   \n",
       "\n",
       "       Manager_Grade  Manager_Num_Products  Manager_Num_Products2 source  \\\n",
       "14567            3.0                   0.0                    0.0   test   \n",
       "14568            3.0                   0.0                    0.0   test   \n",
       "14569            3.0                   0.0                    0.0   test   \n",
       "14570            3.0                   1.0                    1.0   test   \n",
       "14571            3.0                   0.0                    0.0   test   \n",
       "\n",
       "       Applicant_Gender_F  Applicant_Gender_M  ...  \\\n",
       "14567                   1                   0  ...   \n",
       "14568                   0                   1  ...   \n",
       "14569                   0                   1  ...   \n",
       "14570                   0                   1  ...   \n",
       "14571                   0                   1  ...   \n",
       "\n",
       "       Manager_Joining_Designation_Level 1  \\\n",
       "14567                                    0   \n",
       "14568                                    0   \n",
       "14569                                    0   \n",
       "14570                                    0   \n",
       "14571                                    0   \n",
       "\n",
       "       Manager_Joining_Designation_Level 2  \\\n",
       "14567                                    1   \n",
       "14568                                    1   \n",
       "14569                                    1   \n",
       "14570                                    1   \n",
       "14571                                    1   \n",
       "\n",
       "       Manager_Joining_Designation_Level 3  \\\n",
       "14567                                    0   \n",
       "14568                                    0   \n",
       "14569                                    0   \n",
       "14570                                    0   \n",
       "14571                                    0   \n",
       "\n",
       "       Manager_Joining_Designation_Level 4  \\\n",
       "14567                                    0   \n",
       "14568                                    0   \n",
       "14569                                    0   \n",
       "14570                                    0   \n",
       "14571                                    0   \n",
       "\n",
       "       Manager_Joining_Designation_Level 5  \\\n",
       "14567                                    0   \n",
       "14568                                    0   \n",
       "14569                                    0   \n",
       "14570                                    0   \n",
       "14571                                    0   \n",
       "\n",
       "       Manager_Joining_Designation_Level 6  \\\n",
       "14567                                    0   \n",
       "14568                                    0   \n",
       "14569                                    0   \n",
       "14570                                    0   \n",
       "14571                                    0   \n",
       "\n",
       "       Manager_Joining_Designation_Level 7  Manager_Joining_Designation_Other  \\\n",
       "14567                                    0                                  0   \n",
       "14568                                    0                                  0   \n",
       "14569                                    0                                  0   \n",
       "14570                                    0                                  0   \n",
       "14571                                    0                                  0   \n",
       "\n",
       "       Manager_Status_Confirmation  Manager_Status_Probation  \n",
       "14567                            0                         1  \n",
       "14568                            0                         1  \n",
       "14569                            0                         1  \n",
       "14570                            0                         1  \n",
       "14571                            0                         1  \n",
       "\n",
       "[5 rows x 48 columns]"
      ]
     },
     "execution_count": 45,
     "metadata": {},
     "output_type": "execute_result"
    }
   ],
   "source": [
    "data.tail()"
   ]
  },
  {
   "cell_type": "code",
   "execution_count": 46,
   "metadata": {},
   "outputs": [],
   "source": [
    "train1=data.loc[data['source']==\"train\"]\n",
    "test1=data.loc[data['source']==\"test\"]"
   ]
  },
  {
   "cell_type": "code",
   "execution_count": 47,
   "metadata": {},
   "outputs": [
    {
     "name": "stderr",
     "output_type": "stream",
     "text": [
      "C:\\Users\\L\\Anaconda3\\lib\\site-packages\\pandas\\core\\frame.py:3940: SettingWithCopyWarning: \n",
      "A value is trying to be set on a copy of a slice from a DataFrame\n",
      "\n",
      "See the caveats in the documentation: http://pandas.pydata.org/pandas-docs/stable/indexing.html#indexing-view-versus-copy\n",
      "  errors=errors)\n"
     ]
    }
   ],
   "source": [
    "train1.drop(['source','ID'],axis=1,inplace=True)\n",
    "test1.drop(['Business_Sourced','source'],axis=1,inplace=True)"
   ]
  },
  {
   "cell_type": "code",
   "execution_count": 48,
   "metadata": {},
   "outputs": [],
   "source": [
    "train1.to_csv('train.modified.csv', index=False)"
   ]
  },
  {
   "cell_type": "code",
   "execution_count": 49,
   "metadata": {},
   "outputs": [],
   "source": [
    "test1.to_csv('test.modified.csv', index=False)"
   ]
  },
  {
   "cell_type": "code",
   "execution_count": 50,
   "metadata": {},
   "outputs": [],
   "source": [
    "newtrain=pd.read_csv('train.modified.csv')"
   ]
  },
  {
   "cell_type": "code",
   "execution_count": 51,
   "metadata": {},
   "outputs": [
    {
     "data": {
      "text/html": [
       "<div>\n",
       "<style scoped>\n",
       "    .dataframe tbody tr th:only-of-type {\n",
       "        vertical-align: middle;\n",
       "    }\n",
       "\n",
       "    .dataframe tbody tr th {\n",
       "        vertical-align: top;\n",
       "    }\n",
       "\n",
       "    .dataframe thead th {\n",
       "        text-align: right;\n",
       "    }\n",
       "</style>\n",
       "<table border=\"1\" class=\"dataframe\">\n",
       "  <thead>\n",
       "    <tr style=\"text-align: right;\">\n",
       "      <th></th>\n",
       "      <th>Business_Sourced</th>\n",
       "      <th>Manager_Business</th>\n",
       "      <th>Manager_Business2</th>\n",
       "      <th>Manager_Grade</th>\n",
       "      <th>Manager_Num_Products</th>\n",
       "      <th>Manager_Num_Products2</th>\n",
       "      <th>Applicant_Gender_F</th>\n",
       "      <th>Applicant_Gender_M</th>\n",
       "      <th>Applicant_Marital_Status_D</th>\n",
       "      <th>Applicant_Marital_Status_M</th>\n",
       "      <th>...</th>\n",
       "      <th>Manager_Joining_Designation_Level 1</th>\n",
       "      <th>Manager_Joining_Designation_Level 2</th>\n",
       "      <th>Manager_Joining_Designation_Level 3</th>\n",
       "      <th>Manager_Joining_Designation_Level 4</th>\n",
       "      <th>Manager_Joining_Designation_Level 5</th>\n",
       "      <th>Manager_Joining_Designation_Level 6</th>\n",
       "      <th>Manager_Joining_Designation_Level 7</th>\n",
       "      <th>Manager_Joining_Designation_Other</th>\n",
       "      <th>Manager_Status_Confirmation</th>\n",
       "      <th>Manager_Status_Probation</th>\n",
       "    </tr>\n",
       "  </thead>\n",
       "  <tbody>\n",
       "    <tr>\n",
       "      <th>0</th>\n",
       "      <td>0.0</td>\n",
       "      <td>335249.0</td>\n",
       "      <td>335249.0</td>\n",
       "      <td>3.0</td>\n",
       "      <td>28.0</td>\n",
       "      <td>28.0</td>\n",
       "      <td>0</td>\n",
       "      <td>1</td>\n",
       "      <td>0</td>\n",
       "      <td>1</td>\n",
       "      <td>...</td>\n",
       "      <td>1</td>\n",
       "      <td>0</td>\n",
       "      <td>0</td>\n",
       "      <td>0</td>\n",
       "      <td>0</td>\n",
       "      <td>0</td>\n",
       "      <td>0</td>\n",
       "      <td>0</td>\n",
       "      <td>1</td>\n",
       "      <td>0</td>\n",
       "    </tr>\n",
       "    <tr>\n",
       "      <th>1</th>\n",
       "      <td>1.0</td>\n",
       "      <td>335249.0</td>\n",
       "      <td>335249.0</td>\n",
       "      <td>3.0</td>\n",
       "      <td>28.0</td>\n",
       "      <td>28.0</td>\n",
       "      <td>0</td>\n",
       "      <td>1</td>\n",
       "      <td>0</td>\n",
       "      <td>0</td>\n",
       "      <td>...</td>\n",
       "      <td>1</td>\n",
       "      <td>0</td>\n",
       "      <td>0</td>\n",
       "      <td>0</td>\n",
       "      <td>0</td>\n",
       "      <td>0</td>\n",
       "      <td>0</td>\n",
       "      <td>0</td>\n",
       "      <td>1</td>\n",
       "      <td>0</td>\n",
       "    </tr>\n",
       "    <tr>\n",
       "      <th>2</th>\n",
       "      <td>0.0</td>\n",
       "      <td>357184.0</td>\n",
       "      <td>357184.0</td>\n",
       "      <td>2.0</td>\n",
       "      <td>24.0</td>\n",
       "      <td>24.0</td>\n",
       "      <td>0</td>\n",
       "      <td>1</td>\n",
       "      <td>0</td>\n",
       "      <td>1</td>\n",
       "      <td>...</td>\n",
       "      <td>1</td>\n",
       "      <td>0</td>\n",
       "      <td>0</td>\n",
       "      <td>0</td>\n",
       "      <td>0</td>\n",
       "      <td>0</td>\n",
       "      <td>0</td>\n",
       "      <td>0</td>\n",
       "      <td>1</td>\n",
       "      <td>0</td>\n",
       "    </tr>\n",
       "    <tr>\n",
       "      <th>3</th>\n",
       "      <td>0.0</td>\n",
       "      <td>318356.0</td>\n",
       "      <td>318356.0</td>\n",
       "      <td>4.0</td>\n",
       "      <td>22.0</td>\n",
       "      <td>22.0</td>\n",
       "      <td>0</td>\n",
       "      <td>1</td>\n",
       "      <td>0</td>\n",
       "      <td>0</td>\n",
       "      <td>...</td>\n",
       "      <td>1</td>\n",
       "      <td>0</td>\n",
       "      <td>0</td>\n",
       "      <td>0</td>\n",
       "      <td>0</td>\n",
       "      <td>0</td>\n",
       "      <td>0</td>\n",
       "      <td>0</td>\n",
       "      <td>1</td>\n",
       "      <td>0</td>\n",
       "    </tr>\n",
       "    <tr>\n",
       "      <th>4</th>\n",
       "      <td>0.0</td>\n",
       "      <td>230402.0</td>\n",
       "      <td>230402.0</td>\n",
       "      <td>2.0</td>\n",
       "      <td>17.0</td>\n",
       "      <td>17.0</td>\n",
       "      <td>0</td>\n",
       "      <td>1</td>\n",
       "      <td>0</td>\n",
       "      <td>1</td>\n",
       "      <td>...</td>\n",
       "      <td>1</td>\n",
       "      <td>0</td>\n",
       "      <td>0</td>\n",
       "      <td>0</td>\n",
       "      <td>0</td>\n",
       "      <td>0</td>\n",
       "      <td>0</td>\n",
       "      <td>0</td>\n",
       "      <td>1</td>\n",
       "      <td>0</td>\n",
       "    </tr>\n",
       "  </tbody>\n",
       "</table>\n",
       "<p>5 rows × 46 columns</p>\n",
       "</div>"
      ],
      "text/plain": [
       "   Business_Sourced  Manager_Business  Manager_Business2  Manager_Grade  \\\n",
       "0               0.0          335249.0           335249.0            3.0   \n",
       "1               1.0          335249.0           335249.0            3.0   \n",
       "2               0.0          357184.0           357184.0            2.0   \n",
       "3               0.0          318356.0           318356.0            4.0   \n",
       "4               0.0          230402.0           230402.0            2.0   \n",
       "\n",
       "   Manager_Num_Products  Manager_Num_Products2  Applicant_Gender_F  \\\n",
       "0                  28.0                   28.0                   0   \n",
       "1                  28.0                   28.0                   0   \n",
       "2                  24.0                   24.0                   0   \n",
       "3                  22.0                   22.0                   0   \n",
       "4                  17.0                   17.0                   0   \n",
       "\n",
       "   Applicant_Gender_M  Applicant_Marital_Status_D  Applicant_Marital_Status_M  \\\n",
       "0                   1                           0                           1   \n",
       "1                   1                           0                           0   \n",
       "2                   1                           0                           1   \n",
       "3                   1                           0                           0   \n",
       "4                   1                           0                           1   \n",
       "\n",
       "   ...  Manager_Joining_Designation_Level 1  \\\n",
       "0  ...                                    1   \n",
       "1  ...                                    1   \n",
       "2  ...                                    1   \n",
       "3  ...                                    1   \n",
       "4  ...                                    1   \n",
       "\n",
       "   Manager_Joining_Designation_Level 2  Manager_Joining_Designation_Level 3  \\\n",
       "0                                    0                                    0   \n",
       "1                                    0                                    0   \n",
       "2                                    0                                    0   \n",
       "3                                    0                                    0   \n",
       "4                                    0                                    0   \n",
       "\n",
       "   Manager_Joining_Designation_Level 4  Manager_Joining_Designation_Level 5  \\\n",
       "0                                    0                                    0   \n",
       "1                                    0                                    0   \n",
       "2                                    0                                    0   \n",
       "3                                    0                                    0   \n",
       "4                                    0                                    0   \n",
       "\n",
       "   Manager_Joining_Designation_Level 6  Manager_Joining_Designation_Level 7  \\\n",
       "0                                    0                                    0   \n",
       "1                                    0                                    0   \n",
       "2                                    0                                    0   \n",
       "3                                    0                                    0   \n",
       "4                                    0                                    0   \n",
       "\n",
       "   Manager_Joining_Designation_Other  Manager_Status_Confirmation  \\\n",
       "0                                  0                            1   \n",
       "1                                  0                            1   \n",
       "2                                  0                            1   \n",
       "3                                  0                            1   \n",
       "4                                  0                            1   \n",
       "\n",
       "   Manager_Status_Probation  \n",
       "0                         0  \n",
       "1                         0  \n",
       "2                         0  \n",
       "3                         0  \n",
       "4                         0  \n",
       "\n",
       "[5 rows x 46 columns]"
      ]
     },
     "execution_count": 51,
     "metadata": {},
     "output_type": "execute_result"
    }
   ],
   "source": [
    "newtrain.head()"
   ]
  },
  {
   "cell_type": "code",
   "execution_count": 52,
   "metadata": {},
   "outputs": [],
   "source": [
    "x_train=newtrain.drop(['Business_Sourced'],axis=1)"
   ]
  },
  {
   "cell_type": "code",
   "execution_count": 53,
   "metadata": {},
   "outputs": [],
   "source": [
    "y_train=newtrain['Business_Sourced']"
   ]
  },
  {
   "cell_type": "code",
   "execution_count": 54,
   "metadata": {},
   "outputs": [],
   "source": [
    "newtest=pd.read_csv('test.modified.csv')"
   ]
  },
  {
   "cell_type": "code",
   "execution_count": 55,
   "metadata": {},
   "outputs": [
    {
     "data": {
      "text/html": [
       "<div>\n",
       "<style scoped>\n",
       "    .dataframe tbody tr th:only-of-type {\n",
       "        vertical-align: middle;\n",
       "    }\n",
       "\n",
       "    .dataframe tbody tr th {\n",
       "        vertical-align: top;\n",
       "    }\n",
       "\n",
       "    .dataframe thead th {\n",
       "        text-align: right;\n",
       "    }\n",
       "</style>\n",
       "<table border=\"1\" class=\"dataframe\">\n",
       "  <thead>\n",
       "    <tr style=\"text-align: right;\">\n",
       "      <th></th>\n",
       "      <th>ID</th>\n",
       "      <th>Manager_Business</th>\n",
       "      <th>Manager_Business2</th>\n",
       "      <th>Manager_Grade</th>\n",
       "      <th>Manager_Num_Products</th>\n",
       "      <th>Manager_Num_Products2</th>\n",
       "      <th>Applicant_Gender_F</th>\n",
       "      <th>Applicant_Gender_M</th>\n",
       "      <th>Applicant_Marital_Status_D</th>\n",
       "      <th>Applicant_Marital_Status_M</th>\n",
       "      <th>...</th>\n",
       "      <th>Manager_Joining_Designation_Level 1</th>\n",
       "      <th>Manager_Joining_Designation_Level 2</th>\n",
       "      <th>Manager_Joining_Designation_Level 3</th>\n",
       "      <th>Manager_Joining_Designation_Level 4</th>\n",
       "      <th>Manager_Joining_Designation_Level 5</th>\n",
       "      <th>Manager_Joining_Designation_Level 6</th>\n",
       "      <th>Manager_Joining_Designation_Level 7</th>\n",
       "      <th>Manager_Joining_Designation_Other</th>\n",
       "      <th>Manager_Status_Confirmation</th>\n",
       "      <th>Manager_Status_Probation</th>\n",
       "    </tr>\n",
       "  </thead>\n",
       "  <tbody>\n",
       "    <tr>\n",
       "      <th>0</th>\n",
       "      <td>FIN1009528</td>\n",
       "      <td>0.00000</td>\n",
       "      <td>0.000000</td>\n",
       "      <td>2.000000</td>\n",
       "      <td>0.000000</td>\n",
       "      <td>0.000000</td>\n",
       "      <td>0</td>\n",
       "      <td>1</td>\n",
       "      <td>0</td>\n",
       "      <td>0</td>\n",
       "      <td>...</td>\n",
       "      <td>1</td>\n",
       "      <td>0</td>\n",
       "      <td>0</td>\n",
       "      <td>0</td>\n",
       "      <td>0</td>\n",
       "      <td>0</td>\n",
       "      <td>0</td>\n",
       "      <td>0</td>\n",
       "      <td>0</td>\n",
       "      <td>1</td>\n",
       "    </tr>\n",
       "    <tr>\n",
       "      <th>1</th>\n",
       "      <td>FIN1009529</td>\n",
       "      <td>0.00000</td>\n",
       "      <td>0.000000</td>\n",
       "      <td>2.000000</td>\n",
       "      <td>0.000000</td>\n",
       "      <td>0.000000</td>\n",
       "      <td>0</td>\n",
       "      <td>1</td>\n",
       "      <td>0</td>\n",
       "      <td>1</td>\n",
       "      <td>...</td>\n",
       "      <td>1</td>\n",
       "      <td>0</td>\n",
       "      <td>0</td>\n",
       "      <td>0</td>\n",
       "      <td>0</td>\n",
       "      <td>0</td>\n",
       "      <td>0</td>\n",
       "      <td>0</td>\n",
       "      <td>0</td>\n",
       "      <td>1</td>\n",
       "    </tr>\n",
       "    <tr>\n",
       "      <th>2</th>\n",
       "      <td>FIN1009530</td>\n",
       "      <td>160841.78163</td>\n",
       "      <td>155795.761194</td>\n",
       "      <td>3.292767</td>\n",
       "      <td>6.090011</td>\n",
       "      <td>5.956525</td>\n",
       "      <td>0</td>\n",
       "      <td>1</td>\n",
       "      <td>0</td>\n",
       "      <td>0</td>\n",
       "      <td>...</td>\n",
       "      <td>1</td>\n",
       "      <td>0</td>\n",
       "      <td>0</td>\n",
       "      <td>0</td>\n",
       "      <td>0</td>\n",
       "      <td>0</td>\n",
       "      <td>0</td>\n",
       "      <td>0</td>\n",
       "      <td>1</td>\n",
       "      <td>0</td>\n",
       "    </tr>\n",
       "    <tr>\n",
       "      <th>3</th>\n",
       "      <td>FIN1009531</td>\n",
       "      <td>160841.78163</td>\n",
       "      <td>155795.761194</td>\n",
       "      <td>3.292767</td>\n",
       "      <td>6.090011</td>\n",
       "      <td>5.956525</td>\n",
       "      <td>0</td>\n",
       "      <td>1</td>\n",
       "      <td>0</td>\n",
       "      <td>0</td>\n",
       "      <td>...</td>\n",
       "      <td>1</td>\n",
       "      <td>0</td>\n",
       "      <td>0</td>\n",
       "      <td>0</td>\n",
       "      <td>0</td>\n",
       "      <td>0</td>\n",
       "      <td>0</td>\n",
       "      <td>0</td>\n",
       "      <td>1</td>\n",
       "      <td>0</td>\n",
       "    </tr>\n",
       "    <tr>\n",
       "      <th>4</th>\n",
       "      <td>FIN1009532</td>\n",
       "      <td>97352.00000</td>\n",
       "      <td>97352.000000</td>\n",
       "      <td>3.000000</td>\n",
       "      <td>3.000000</td>\n",
       "      <td>3.000000</td>\n",
       "      <td>0</td>\n",
       "      <td>1</td>\n",
       "      <td>0</td>\n",
       "      <td>0</td>\n",
       "      <td>...</td>\n",
       "      <td>0</td>\n",
       "      <td>1</td>\n",
       "      <td>0</td>\n",
       "      <td>0</td>\n",
       "      <td>0</td>\n",
       "      <td>0</td>\n",
       "      <td>0</td>\n",
       "      <td>0</td>\n",
       "      <td>1</td>\n",
       "      <td>0</td>\n",
       "    </tr>\n",
       "  </tbody>\n",
       "</table>\n",
       "<p>5 rows × 46 columns</p>\n",
       "</div>"
      ],
      "text/plain": [
       "           ID  Manager_Business  Manager_Business2  Manager_Grade  \\\n",
       "0  FIN1009528           0.00000           0.000000       2.000000   \n",
       "1  FIN1009529           0.00000           0.000000       2.000000   \n",
       "2  FIN1009530      160841.78163      155795.761194       3.292767   \n",
       "3  FIN1009531      160841.78163      155795.761194       3.292767   \n",
       "4  FIN1009532       97352.00000       97352.000000       3.000000   \n",
       "\n",
       "   Manager_Num_Products  Manager_Num_Products2  Applicant_Gender_F  \\\n",
       "0              0.000000               0.000000                   0   \n",
       "1              0.000000               0.000000                   0   \n",
       "2              6.090011               5.956525                   0   \n",
       "3              6.090011               5.956525                   0   \n",
       "4              3.000000               3.000000                   0   \n",
       "\n",
       "   Applicant_Gender_M  Applicant_Marital_Status_D  Applicant_Marital_Status_M  \\\n",
       "0                   1                           0                           0   \n",
       "1                   1                           0                           1   \n",
       "2                   1                           0                           0   \n",
       "3                   1                           0                           0   \n",
       "4                   1                           0                           0   \n",
       "\n",
       "   ...  Manager_Joining_Designation_Level 1  \\\n",
       "0  ...                                    1   \n",
       "1  ...                                    1   \n",
       "2  ...                                    1   \n",
       "3  ...                                    1   \n",
       "4  ...                                    0   \n",
       "\n",
       "   Manager_Joining_Designation_Level 2  Manager_Joining_Designation_Level 3  \\\n",
       "0                                    0                                    0   \n",
       "1                                    0                                    0   \n",
       "2                                    0                                    0   \n",
       "3                                    0                                    0   \n",
       "4                                    1                                    0   \n",
       "\n",
       "   Manager_Joining_Designation_Level 4  Manager_Joining_Designation_Level 5  \\\n",
       "0                                    0                                    0   \n",
       "1                                    0                                    0   \n",
       "2                                    0                                    0   \n",
       "3                                    0                                    0   \n",
       "4                                    0                                    0   \n",
       "\n",
       "   Manager_Joining_Designation_Level 6  Manager_Joining_Designation_Level 7  \\\n",
       "0                                    0                                    0   \n",
       "1                                    0                                    0   \n",
       "2                                    0                                    0   \n",
       "3                                    0                                    0   \n",
       "4                                    0                                    0   \n",
       "\n",
       "   Manager_Joining_Designation_Other  Manager_Status_Confirmation  \\\n",
       "0                                  0                            0   \n",
       "1                                  0                            0   \n",
       "2                                  0                            1   \n",
       "3                                  0                            1   \n",
       "4                                  0                            1   \n",
       "\n",
       "   Manager_Status_Probation  \n",
       "0                         1  \n",
       "1                         1  \n",
       "2                         0  \n",
       "3                         0  \n",
       "4                         0  \n",
       "\n",
       "[5 rows x 46 columns]"
      ]
     },
     "execution_count": 55,
     "metadata": {},
     "output_type": "execute_result"
    }
   ],
   "source": [
    "newtest.head()"
   ]
  },
  {
   "cell_type": "code",
   "execution_count": 56,
   "metadata": {},
   "outputs": [],
   "source": [
    "x_test=newtest"
   ]
  },
  {
   "cell_type": "code",
   "execution_count": 57,
   "metadata": {},
   "outputs": [
    {
     "data": {
      "text/plain": [
       "(5045, 46)"
      ]
     },
     "execution_count": 57,
     "metadata": {},
     "output_type": "execute_result"
    }
   ],
   "source": [
    "x_test.shape"
   ]
  },
  {
   "cell_type": "code",
   "execution_count": 58,
   "metadata": {},
   "outputs": [],
   "source": [
    "from sklearn.ensemble import RandomForestClassifier"
   ]
  },
  {
   "cell_type": "code",
   "execution_count": 252,
   "metadata": {},
   "outputs": [],
   "source": [
    "clf=RandomForestClassifier(n_estimators=150,max_depth=20)"
   ]
  },
  {
   "cell_type": "code",
   "execution_count": 253,
   "metadata": {},
   "outputs": [
    {
     "data": {
      "text/plain": [
       "RandomForestClassifier(bootstrap=True, class_weight=None, criterion='gini',\n",
       "            max_depth=20, max_features='auto', max_leaf_nodes=None,\n",
       "            min_impurity_decrease=0.0, min_impurity_split=None,\n",
       "            min_samples_leaf=1, min_samples_split=2,\n",
       "            min_weight_fraction_leaf=0.0, n_estimators=150, n_jobs=None,\n",
       "            oob_score=False, random_state=None, verbose=0,\n",
       "            warm_start=False)"
      ]
     },
     "execution_count": 253,
     "metadata": {},
     "output_type": "execute_result"
    }
   ],
   "source": [
    "clf.fit(x_train,y_train)"
   ]
  },
  {
   "cell_type": "code",
   "execution_count": 254,
   "metadata": {},
   "outputs": [
    {
     "data": {
      "text/plain": [
       "0.8391938700535321"
      ]
     },
     "execution_count": 254,
     "metadata": {},
     "output_type": "execute_result"
    }
   ],
   "source": [
    "clf.score(x_train,y_train)"
   ]
  },
  {
   "cell_type": "code",
   "execution_count": 255,
   "metadata": {},
   "outputs": [],
   "source": [
    "My_test=x_test.drop(['ID'],axis=1)"
   ]
  },
  {
   "cell_type": "code",
   "execution_count": 256,
   "metadata": {},
   "outputs": [],
   "source": [
    "predict=clf.predict(My_test)"
   ]
  },
  {
   "cell_type": "code",
   "execution_count": 257,
   "metadata": {},
   "outputs": [
    {
     "data": {
      "text/plain": [
       "array([0., 0., 0., ..., 0., 0., 0.])"
      ]
     },
     "execution_count": 257,
     "metadata": {},
     "output_type": "execute_result"
    }
   ],
   "source": [
    "predict"
   ]
  },
  {
   "cell_type": "code",
   "execution_count": 258,
   "metadata": {},
   "outputs": [],
   "source": [
    "my_submission=pd.DataFrame({'ID':x_test.ID,'Business_Sourced': predict})"
   ]
  },
  {
   "cell_type": "code",
   "execution_count": 259,
   "metadata": {},
   "outputs": [],
   "source": [
    "my_submission.to_csv('submission01.csv',index=False)"
   ]
  },
  {
   "cell_type": "code",
   "execution_count": null,
   "metadata": {},
   "outputs": [],
   "source": []
  }
 ],
 "metadata": {
  "kernelspec": {
   "display_name": "Python 3",
   "language": "python",
   "name": "python3"
  },
  "language_info": {
   "codemirror_mode": {
    "name": "ipython",
    "version": 3
   },
   "file_extension": ".py",
   "mimetype": "text/x-python",
   "name": "python",
   "nbconvert_exporter": "python",
   "pygments_lexer": "ipython3",
   "version": "3.7.3"
  }
 },
 "nbformat": 4,
 "nbformat_minor": 2
}
